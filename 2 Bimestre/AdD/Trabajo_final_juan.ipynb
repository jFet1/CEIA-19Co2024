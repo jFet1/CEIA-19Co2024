{
 "cells": [
  {
   "cell_type": "code",
   "execution_count": 28,
   "metadata": {},
   "outputs": [],
   "source": [
    "import pandas as pd\n",
    "import matplotlib.pyplot as plt\n",
    "import seaborn as sns\n",
    "import missingno as msno"
   ]
  },
  {
   "cell_type": "markdown",
   "metadata": {},
   "source": [
    "# Exploración y comprensión de los datos"
   ]
  },
  {
   "cell_type": "markdown",
   "metadata": {},
   "source": [
    "## EDA del dataset del ultimo anio"
   ]
  },
  {
   "cell_type": "code",
   "execution_count": 29,
   "metadata": {},
   "outputs": [
    {
     "data": {
      "text/html": [
       "<div>\n",
       "<style scoped>\n",
       "    .dataframe tbody tr th:only-of-type {\n",
       "        vertical-align: middle;\n",
       "    }\n",
       "\n",
       "    .dataframe tbody tr th {\n",
       "        vertical-align: top;\n",
       "    }\n",
       "\n",
       "    .dataframe thead th {\n",
       "        text-align: right;\n",
       "    }\n",
       "</style>\n",
       "<table border=\"1\" class=\"dataframe\">\n",
       "  <thead>\n",
       "    <tr style=\"text-align: right;\">\n",
       "      <th></th>\n",
       "      <th>FECHA</th>\n",
       "      <th>TMAX</th>\n",
       "      <th>TMIN</th>\n",
       "      <th>NOMBRE</th>\n",
       "    </tr>\n",
       "  </thead>\n",
       "  <tbody>\n",
       "    <tr>\n",
       "      <th>0</th>\n",
       "      <td>--------</td>\n",
       "      <td>-----</td>\n",
       "      <td>-----</td>\n",
       "      <td>----------------------------------------</td>\n",
       "    </tr>\n",
       "    <tr>\n",
       "      <th>1</th>\n",
       "      <td>30032025</td>\n",
       "      <td>28.9</td>\n",
       "      <td>21.4</td>\n",
       "      <td>AEROPARQUE AERO</td>\n",
       "    </tr>\n",
       "    <tr>\n",
       "      <th>2</th>\n",
       "      <td>30032025</td>\n",
       "      <td>23.0</td>\n",
       "      <td>13.7</td>\n",
       "      <td>AZUL AERO</td>\n",
       "    </tr>\n",
       "    <tr>\n",
       "      <th>3</th>\n",
       "      <td>30032025</td>\n",
       "      <td>22.6</td>\n",
       "      <td>14.6</td>\n",
       "      <td>BAHIA BLANCA AERO</td>\n",
       "    </tr>\n",
       "    <tr>\n",
       "      <th>4</th>\n",
       "      <td>30032025</td>\n",
       "      <td>12.6</td>\n",
       "      <td>4.4</td>\n",
       "      <td>BARILOCHE AERO</td>\n",
       "    </tr>\n",
       "  </tbody>\n",
       "</table>\n",
       "</div>"
      ],
      "text/plain": [
       "      FECHA   TMAX   TMIN                                    NOMBRE\n",
       "0  --------  -----  -----  ----------------------------------------\n",
       "1  30032025   28.9   21.4                           AEROPARQUE AERO\n",
       "2  30032025   23.0   13.7                                 AZUL AERO\n",
       "3  30032025   22.6   14.6                         BAHIA BLANCA AERO\n",
       "4  30032025   12.6    4.4                            BARILOCHE AERO"
      ]
     },
     "execution_count": 29,
     "metadata": {},
     "output_type": "execute_result"
    }
   ],
   "source": [
    "df_ly = pd.read_fwf(\"registro_temperatura365d_smn.txt\", skiprows=1, encoding=\"latin1\") #La primera linea esta en blanco (skiprows=1)\n",
    "df_ly.head()"
   ]
  },
  {
   "cell_type": "markdown",
   "metadata": {},
   "source": [
    "Hay cuatro columnas en el dataset indicando fecha, temperatura maxima, temperatura minima y el nombre de la estacion."
   ]
  },
  {
   "cell_type": "markdown",
   "metadata": {},
   "source": [
    "## Características principales del dataset, número de observaciones, número de variables y tipos de datos."
   ]
  },
  {
   "cell_type": "code",
   "execution_count": 30,
   "metadata": {},
   "outputs": [
    {
     "name": "stdout",
     "output_type": "stream",
     "text": [
      "Estadística descriptiva de las numéricas:\n",
      "\n"
     ]
    },
    {
     "data": {
      "text/html": [
       "<div>\n",
       "<style scoped>\n",
       "    .dataframe tbody tr th:only-of-type {\n",
       "        vertical-align: middle;\n",
       "    }\n",
       "\n",
       "    .dataframe tbody tr th {\n",
       "        vertical-align: top;\n",
       "    }\n",
       "\n",
       "    .dataframe thead th {\n",
       "        text-align: right;\n",
       "    }\n",
       "</style>\n",
       "<table border=\"1\" class=\"dataframe\">\n",
       "  <thead>\n",
       "    <tr style=\"text-align: right;\">\n",
       "      <th></th>\n",
       "      <th>FECHA</th>\n",
       "      <th>TMAX</th>\n",
       "      <th>TMIN</th>\n",
       "      <th>NOMBRE</th>\n",
       "    </tr>\n",
       "  </thead>\n",
       "  <tbody>\n",
       "    <tr>\n",
       "      <th>count</th>\n",
       "      <td>42916</td>\n",
       "      <td>38391</td>\n",
       "      <td>42296</td>\n",
       "      <td>42916</td>\n",
       "    </tr>\n",
       "    <tr>\n",
       "      <th>unique</th>\n",
       "      <td>366</td>\n",
       "      <td>668</td>\n",
       "      <td>590</td>\n",
       "      <td>119</td>\n",
       "    </tr>\n",
       "    <tr>\n",
       "      <th>top</th>\n",
       "      <td>31032024</td>\n",
       "      <td>29.0</td>\n",
       "      <td>15.0</td>\n",
       "      <td>AEROPARQUE AERO</td>\n",
       "    </tr>\n",
       "    <tr>\n",
       "      <th>freq</th>\n",
       "      <td>118</td>\n",
       "      <td>356</td>\n",
       "      <td>420</td>\n",
       "      <td>365</td>\n",
       "    </tr>\n",
       "  </tbody>\n",
       "</table>\n",
       "</div>"
      ],
      "text/plain": [
       "           FECHA   TMAX   TMIN           NOMBRE\n",
       "count      42916  38391  42296            42916\n",
       "unique       366    668    590              119\n",
       "top     31032024   29.0   15.0  AEROPARQUE AERO\n",
       "freq         118    356    420              365"
      ]
     },
     "execution_count": 30,
     "metadata": {},
     "output_type": "execute_result"
    }
   ],
   "source": [
    "print('Estadística descriptiva de las numéricas:\\n')\n",
    "df_ly.describe()"
   ]
  },
  {
   "cell_type": "code",
   "execution_count": 31,
   "metadata": {},
   "outputs": [
    {
     "name": "stdout",
     "output_type": "stream",
     "text": [
      "Nro de obs nulas y no nulos, Nro de variables y tipos de datos:\n",
      "\n",
      "<class 'pandas.core.frame.DataFrame'>\n",
      "RangeIndex: 42916 entries, 0 to 42915\n",
      "Data columns (total 4 columns):\n",
      " #   Column  Non-Null Count  Dtype \n",
      "---  ------  --------------  ----- \n",
      " 0   FECHA   42916 non-null  object\n",
      " 1   TMAX    38391 non-null  object\n",
      " 2   TMIN    42296 non-null  object\n",
      " 3   NOMBRE  42916 non-null  object\n",
      "dtypes: object(4)\n",
      "memory usage: 1.3+ MB\n"
     ]
    }
   ],
   "source": [
    "# Estadística descriptiva de las numéricas\n",
    "print('Nro de obs nulas y no nulos, Nro de variables y tipos de datos:\\n')\n",
    "df_ly.info()"
   ]
  },
  {
   "cell_type": "code",
   "execution_count": 32,
   "metadata": {},
   "outputs": [
    {
     "name": "stdout",
     "output_type": "stream",
     "text": [
      "Valores unicos:\n",
      "\n"
     ]
    },
    {
     "data": {
      "text/plain": [
       "FECHA     366\n",
       "TMAX      668\n",
       "TMIN      590\n",
       "NOMBRE    119\n",
       "dtype: int64"
      ]
     },
     "execution_count": 32,
     "metadata": {},
     "output_type": "execute_result"
    }
   ],
   "source": [
    "print('Valores unicos:\\n')\n",
    "df_ly.nunique()"
   ]
  },
  {
   "cell_type": "markdown",
   "metadata": {},
   "source": [
    "# Limpieza del dataset"
   ]
  },
  {
   "cell_type": "markdown",
   "metadata": {},
   "source": [
    "## Reformateando variables numericas y categoricas"
   ]
  },
  {
   "cell_type": "code",
   "execution_count": 33,
   "metadata": {},
   "outputs": [
    {
     "data": {
      "text/html": [
       "<div>\n",
       "<style scoped>\n",
       "    .dataframe tbody tr th:only-of-type {\n",
       "        vertical-align: middle;\n",
       "    }\n",
       "\n",
       "    .dataframe tbody tr th {\n",
       "        vertical-align: top;\n",
       "    }\n",
       "\n",
       "    .dataframe thead th {\n",
       "        text-align: right;\n",
       "    }\n",
       "</style>\n",
       "<table border=\"1\" class=\"dataframe\">\n",
       "  <thead>\n",
       "    <tr style=\"text-align: right;\">\n",
       "      <th></th>\n",
       "      <th>FECHA</th>\n",
       "      <th>TMAX</th>\n",
       "      <th>TMIN</th>\n",
       "      <th>NOMBRE</th>\n",
       "    </tr>\n",
       "  </thead>\n",
       "  <tbody>\n",
       "    <tr>\n",
       "      <th>1</th>\n",
       "      <td>2025-03-30</td>\n",
       "      <td>28.9</td>\n",
       "      <td>21.4</td>\n",
       "      <td>AEROPARQUE AERO</td>\n",
       "    </tr>\n",
       "    <tr>\n",
       "      <th>2</th>\n",
       "      <td>2025-03-30</td>\n",
       "      <td>23.0</td>\n",
       "      <td>13.7</td>\n",
       "      <td>AZUL AERO</td>\n",
       "    </tr>\n",
       "    <tr>\n",
       "      <th>3</th>\n",
       "      <td>2025-03-30</td>\n",
       "      <td>22.6</td>\n",
       "      <td>14.6</td>\n",
       "      <td>BAHIA BLANCA AERO</td>\n",
       "    </tr>\n",
       "    <tr>\n",
       "      <th>4</th>\n",
       "      <td>2025-03-30</td>\n",
       "      <td>12.6</td>\n",
       "      <td>4.4</td>\n",
       "      <td>BARILOCHE AERO</td>\n",
       "    </tr>\n",
       "    <tr>\n",
       "      <th>5</th>\n",
       "      <td>2025-03-30</td>\n",
       "      <td>-10.3</td>\n",
       "      <td>-16.5</td>\n",
       "      <td>BASE BELGRANO II</td>\n",
       "    </tr>\n",
       "  </tbody>\n",
       "</table>\n",
       "</div>"
      ],
      "text/plain": [
       "       FECHA  TMAX  TMIN             NOMBRE\n",
       "1 2025-03-30  28.9  21.4    AEROPARQUE AERO\n",
       "2 2025-03-30  23.0  13.7          AZUL AERO\n",
       "3 2025-03-30  22.6  14.6  BAHIA BLANCA AERO\n",
       "4 2025-03-30  12.6   4.4     BARILOCHE AERO\n",
       "5 2025-03-30 -10.3 -16.5   BASE BELGRANO II"
      ]
     },
     "execution_count": 33,
     "metadata": {},
     "output_type": "execute_result"
    }
   ],
   "source": [
    "df_ly = pd.read_fwf(\"registro_temperatura365d_smn.txt\", skiprows=1, encoding=\"latin1\") #La primera linea esta en blanco (skiprows=1)\n",
    "# Quitar filas que no tengan una fecha válida (por ejemplo, si tienen guiones)\n",
    "df_ly = df_ly[df_ly['FECHA'].str.fullmatch(r\"\\d{8}\")] # Filtrar fechas con formato de 8 dígitos (día-mes-año) \n",
    "\n",
    "df_ly['FECHA'] = pd.to_datetime(df_ly['FECHA'], format = '%d%m%Y') # Convertir a fecha con formato día-mes-año\n",
    "df_ly['TMAX'] = pd.to_numeric(df_ly['TMAX'], errors='coerce') # Ignorar errores de conversión a numérico (por ejemplo, guiones)\n",
    "df_ly['TMIN'] = pd.to_numeric(df_ly['TMIN'], errors='coerce') # Ignorar errores de conversión a numérico (por ejemplo, guiones)\n",
    "df_ly['NOMBRE'] = df_ly['NOMBRE'].astype('category') # Convertir a categoría\n",
    "\n",
    "df_ly.head()"
   ]
  },
  {
   "cell_type": "markdown",
   "metadata": {},
   "source": [
    "## Checkeo de tipo de dato"
   ]
  },
  {
   "cell_type": "code",
   "execution_count": 34,
   "metadata": {},
   "outputs": [
    {
     "name": "stdout",
     "output_type": "stream",
     "text": [
      "Los nuevos tipos de datos son:\n",
      "\n"
     ]
    },
    {
     "data": {
      "text/plain": [
       "FECHA     datetime64[ns]\n",
       "TMAX             float64\n",
       "TMIN             float64\n",
       "NOMBRE          category\n",
       "dtype: object"
      ]
     },
     "execution_count": 34,
     "metadata": {},
     "output_type": "execute_result"
    }
   ],
   "source": [
    "print('Los nuevos tipos de datos son:\\n')\n",
    "df_ly.dtypes"
   ]
  },
  {
   "cell_type": "markdown",
   "metadata": {},
   "source": [
    "## Estadistica descriptiva"
   ]
  },
  {
   "cell_type": "code",
   "execution_count": 35,
   "metadata": {},
   "outputs": [
    {
     "name": "stdout",
     "output_type": "stream",
     "text": [
      "Estadística descriptiva de las numéricas:\n",
      "\n"
     ]
    },
    {
     "data": {
      "text/html": [
       "<div>\n",
       "<style scoped>\n",
       "    .dataframe tbody tr th:only-of-type {\n",
       "        vertical-align: middle;\n",
       "    }\n",
       "\n",
       "    .dataframe tbody tr th {\n",
       "        vertical-align: top;\n",
       "    }\n",
       "\n",
       "    .dataframe thead th {\n",
       "        text-align: right;\n",
       "    }\n",
       "</style>\n",
       "<table border=\"1\" class=\"dataframe\">\n",
       "  <thead>\n",
       "    <tr style=\"text-align: right;\">\n",
       "      <th></th>\n",
       "      <th>FECHA</th>\n",
       "      <th>TMAX</th>\n",
       "      <th>TMIN</th>\n",
       "    </tr>\n",
       "  </thead>\n",
       "  <tbody>\n",
       "    <tr>\n",
       "      <th>count</th>\n",
       "      <td>42915</td>\n",
       "      <td>38390.000000</td>\n",
       "      <td>42295.000000</td>\n",
       "    </tr>\n",
       "    <tr>\n",
       "      <th>mean</th>\n",
       "      <td>2024-09-28 16:29:51.821041408</td>\n",
       "      <td>21.681586</td>\n",
       "      <td>9.731467</td>\n",
       "    </tr>\n",
       "    <tr>\n",
       "      <th>min</th>\n",
       "      <td>2024-03-31 00:00:00</td>\n",
       "      <td>-30.700000</td>\n",
       "      <td>-37.600000</td>\n",
       "    </tr>\n",
       "    <tr>\n",
       "      <th>25%</th>\n",
       "      <td>2024-06-29 12:00:00</td>\n",
       "      <td>15.700000</td>\n",
       "      <td>3.700000</td>\n",
       "    </tr>\n",
       "    <tr>\n",
       "      <th>50%</th>\n",
       "      <td>2024-09-29 00:00:00</td>\n",
       "      <td>22.800000</td>\n",
       "      <td>10.500000</td>\n",
       "    </tr>\n",
       "    <tr>\n",
       "      <th>75%</th>\n",
       "      <td>2024-12-29 00:00:00</td>\n",
       "      <td>29.200000</td>\n",
       "      <td>16.800000</td>\n",
       "    </tr>\n",
       "    <tr>\n",
       "      <th>max</th>\n",
       "      <td>2025-03-30 00:00:00</td>\n",
       "      <td>46.500000</td>\n",
       "      <td>30.800000</td>\n",
       "    </tr>\n",
       "    <tr>\n",
       "      <th>std</th>\n",
       "      <td>NaN</td>\n",
       "      <td>10.265127</td>\n",
       "      <td>8.924445</td>\n",
       "    </tr>\n",
       "  </tbody>\n",
       "</table>\n",
       "</div>"
      ],
      "text/plain": [
       "                               FECHA          TMAX          TMIN\n",
       "count                          42915  38390.000000  42295.000000\n",
       "mean   2024-09-28 16:29:51.821041408     21.681586      9.731467\n",
       "min              2024-03-31 00:00:00    -30.700000    -37.600000\n",
       "25%              2024-06-29 12:00:00     15.700000      3.700000\n",
       "50%              2024-09-29 00:00:00     22.800000     10.500000\n",
       "75%              2024-12-29 00:00:00     29.200000     16.800000\n",
       "max              2025-03-30 00:00:00     46.500000     30.800000\n",
       "std                              NaN     10.265127      8.924445"
      ]
     },
     "execution_count": 35,
     "metadata": {},
     "output_type": "execute_result"
    }
   ],
   "source": [
    "print('Estadística descriptiva de las numéricas:\\n')\n",
    "df_ly.describe()"
   ]
  },
  {
   "cell_type": "code",
   "execution_count": 36,
   "metadata": {},
   "outputs": [
    {
     "data": {
      "image/png": "[encoded data removed]",
      "text/plain": [
       "<Figure size 1500x400 with 2 Axes>"
      ]
     },
     "metadata": {},
     "output_type": "display_data"
    }
   ],
   "source": [
    "fig, axes = plt.subplots(1, 2, figsize=(15, 4))\n",
    "\n",
    "# Función para graficar\n",
    "def plot_distribution(ax, data, title):\n",
    "    ax.hist(data, bins=30, alpha=0.7) # dibujar histograma\n",
    "    ax.axvline(data.mode()[0], color='orange', linestyle='dashed', linewidth=2, label='Moda') # dibujar la moda\n",
    "    ax.axvline(data.mean(), color='red', linestyle='dashed', linewidth=2, label='Media') # dibujar la media\n",
    "    ax.axvline(data.median(), color='green', linestyle='dashed', linewidth=2, label='Mediana') # dibujar la mediana\n",
    "    ax.set_title(title)\n",
    "    ax.legend()\n",
    "\n",
    "plot_distribution(axes[0], df_ly['TMAX'], 'Ultimo_anio: Distribución de la temperatura maxima')\n",
    "plot_distribution(axes[1], df_ly['TMIN'], 'Ultimo_anio: Distribución de la temperatura minima')\n",
    "#plot_distribution(axes[2], df['sibsp'], 'Titanic: Distribución familiares (SibSp)')\n",
    "\n",
    "plt.tight_layout()\n",
    "plt.show()"
   ]
  },
  {
   "cell_type": "markdown",
   "metadata": {},
   "source": [
    "parecen distribuciones normales, estan ligeramente sesgadas a la derecha (negativa). Se presentan outliers en temperaturas bajo cero, almenos, visualmente."
   ]
  },
  {
   "cell_type": "code",
   "execution_count": 37,
   "metadata": {},
   "outputs": [
    {
     "data": {
      "image/png": "[encoded data removed]",
      "text/plain": [
       "<Figure size 1200x400 with 2 Axes>"
      ]
     },
     "metadata": {},
     "output_type": "display_data"
    }
   ],
   "source": [
    "fig, ax = plt.subplots(1,2, figsize=(12, 4))\n",
    "\n",
    "# ejemplo:\n",
    "sns.boxplot(data=df_ly, y='TMAX', ax=ax[0])\n",
    "sns.boxplot(data=df_ly, y='TMIN', ax=ax[1])\n",
    "\n",
    "ax[0].grid(axis='y', ls='--')\n",
    "ax[1].grid(axis='y', ls='--')\n",
    "#plt.legend(title='pclass', loc='upper right')\n",
    "\n",
    "plt.show()"
   ]
  },
  {
   "cell_type": "markdown",
   "metadata": {},
   "source": [
    "Como se esperaba, hay muchos outliers en el caso de tmax por debajo de -5 grados y en el caso de tmin por debajo de -18 grados."
   ]
  },
  {
   "cell_type": "code",
   "execution_count": 38,
   "metadata": {},
   "outputs": [
    {
     "data": {
      "text/plain": [
       "<Axes: >"
      ]
     },
     "execution_count": 38,
     "metadata": {},
     "output_type": "execute_result"
    },
    {
     "data": {
      "image/png": "[encoded data removed]",
      "text/plain": [
       "<Figure size 2500x1000 with 2 Axes>"
      ]
     },
     "metadata": {},
     "output_type": "display_data"
    }
   ],
   "source": [
    "# Matriz de valores faltantes\n",
    "msno.matrix(df_ly)"
   ]
  },
  {
   "cell_type": "code",
   "execution_count": 39,
   "metadata": {},
   "outputs": [
    {
     "name": "stdout",
     "output_type": "stream",
     "text": [
      "Valores faltantes: FECHA        0\n",
      "TMAX      4525\n",
      "TMIN       620\n",
      "NOMBRE       0\n",
      "dtype: int64\n"
     ]
    }
   ],
   "source": [
    "print(f\"Valores faltantes: {df_ly.isnull().sum()}\")  # Calcular valores faltantes"
   ]
  },
  {
   "cell_type": "code",
   "execution_count": 48,
   "metadata": {},
   "outputs": [
    {
     "name": "stdout",
     "output_type": "stream",
     "text": [
      "Proporción de valores nulos en TMAX: 10.54%\n",
      "Proporción de valores nulos en TMIN: 1.44%\n",
      "\n",
      "\n",
      "Se justifica eliminar las filas con valores nulos ya que son pocos?\n"
     ]
    }
   ],
   "source": [
    "# Calcular la proporción de valores nulos en la columna TMAX\n",
    "proporcion_nulos = df_ly['TMAX'].isnull().sum() / len(df_ly)\n",
    "print(f\"Proporción de valores nulos en TMAX: {proporcion_nulos*100:.02f}%\")\n",
    "proporcion_nulos = df_ly['TMIN'].isnull().sum() / len(df_ly)\n",
    "print(f\"Proporción de valores nulos en TMIN: {proporcion_nulos*100:.02f}%\")\n",
    "print('\\n\\nSe justifica eliminar las filas con valores nulos ya que son pocos?')"
   ]
  },
  {
   "cell_type": "code",
   "execution_count": 25,
   "metadata": {},
   "outputs": [],
   "source": [
    "df_ly = df_ly.dropna()  # Elimina filas con valores faltantes"
   ]
  },
  {
   "cell_type": "code",
   "execution_count": 26,
   "metadata": {},
   "outputs": [
    {
     "data": {
      "text/plain": [
       "<Axes: >"
      ]
     },
     "execution_count": 26,
     "metadata": {},
     "output_type": "execute_result"
    },
    {
     "data": {
      "image/png": "[encoded data removed]",
      "text/plain": [
       "<Figure size 2500x1000 with 2 Axes>"
      ]
     },
     "metadata": {},
     "output_type": "display_data"
    }
   ],
   "source": [
    "# Matriz de valores faltantes\n",
    "msno.matrix(df_ly)"
   ]
  },
  {
   "cell_type": "markdown",
   "metadata": {},
   "source": [
    "## EDA del dataset del 1991 - 2020"
   ]
  },
  {
   "cell_type": "code",
   "execution_count": 64,
   "metadata": {},
   "outputs": [
    {
     "data": {
      "text/html": [
       "<div>\n",
       "<style scoped>\n",
       "    .dataframe tbody tr th:only-of-type {\n",
       "        vertical-align: middle;\n",
       "    }\n",
       "\n",
       "    .dataframe tbody tr th {\n",
       "        vertical-align: top;\n",
       "    }\n",
       "\n",
       "    .dataframe thead th {\n",
       "        text-align: right;\n",
       "    }\n",
       "</style>\n",
       "<table border=\"1\" class=\"dataframe\">\n",
       "  <thead>\n",
       "    <tr style=\"text-align: right;\">\n",
       "      <th></th>\n",
       "      <th>Estación</th>\n",
       "      <th>Valor Medio de</th>\n",
       "      <th>Ene</th>\n",
       "      <th>Feb</th>\n",
       "      <th>Mar</th>\n",
       "      <th>Abr</th>\n",
       "      <th>May</th>\n",
       "      <th>Jun</th>\n",
       "      <th>Jul</th>\n",
       "      <th>Ago</th>\n",
       "      <th>Sep</th>\n",
       "      <th>Oct</th>\n",
       "      <th>Nov</th>\n",
       "      <th>Dic</th>\n",
       "    </tr>\n",
       "  </thead>\n",
       "  <tbody>\n",
       "    <tr>\n",
       "      <th>0</th>\n",
       "      <td>LA QUIACA OBSERVATORIO</td>\n",
       "      <td>Temperatura (°C)</td>\n",
       "      <td>13.2</td>\n",
       "      <td>13.0</td>\n",
       "      <td>12.8</td>\n",
       "      <td>11.3</td>\n",
       "      <td>7.3</td>\n",
       "      <td>4.8</td>\n",
       "      <td>4.5</td>\n",
       "      <td>7.0</td>\n",
       "      <td>10.0</td>\n",
       "      <td>12.4</td>\n",
       "      <td>13.4</td>\n",
       "      <td>13.9</td>\n",
       "    </tr>\n",
       "    <tr>\n",
       "      <th>1</th>\n",
       "      <td>LA QUIACA OBSERVATORIO</td>\n",
       "      <td>Temperatura máxima (°C)</td>\n",
       "      <td>20.6</td>\n",
       "      <td>20.4</td>\n",
       "      <td>20.6</td>\n",
       "      <td>20.3</td>\n",
       "      <td>17.8</td>\n",
       "      <td>16.3</td>\n",
       "      <td>16.1</td>\n",
       "      <td>18.0</td>\n",
       "      <td>20.0</td>\n",
       "      <td>21.7</td>\n",
       "      <td>22.5</td>\n",
       "      <td>22.2</td>\n",
       "    </tr>\n",
       "    <tr>\n",
       "      <th>2</th>\n",
       "      <td>LA QUIACA OBSERVATORIO</td>\n",
       "      <td>Temperatura mínima (°C)</td>\n",
       "      <td>7.7</td>\n",
       "      <td>7.6</td>\n",
       "      <td>6.6</td>\n",
       "      <td>3.1</td>\n",
       "      <td>-2.5</td>\n",
       "      <td>-5.7</td>\n",
       "      <td>-6.2</td>\n",
       "      <td>-4.0</td>\n",
       "      <td>-0.4</td>\n",
       "      <td>3.3</td>\n",
       "      <td>5.5</td>\n",
       "      <td>7.3</td>\n",
       "    </tr>\n",
       "    <tr>\n",
       "      <th>3</th>\n",
       "      <td>LA QUIACA OBSERVATORIO</td>\n",
       "      <td>Humedad relativa (%)</td>\n",
       "      <td>62.6</td>\n",
       "      <td>63.2</td>\n",
       "      <td>60.3</td>\n",
       "      <td>46.0</td>\n",
       "      <td>32.6</td>\n",
       "      <td>27.4</td>\n",
       "      <td>25.7</td>\n",
       "      <td>26.7</td>\n",
       "      <td>32.1</td>\n",
       "      <td>42.4</td>\n",
       "      <td>48.6</td>\n",
       "      <td>55.8</td>\n",
       "    </tr>\n",
       "    <tr>\n",
       "      <th>4</th>\n",
       "      <td>LA QUIACA OBSERVATORIO</td>\n",
       "      <td>Velocidad del Viento (km/h) (2011-2020)</td>\n",
       "      <td>6.5</td>\n",
       "      <td>6.8</td>\n",
       "      <td>6.7</td>\n",
       "      <td>5.5</td>\n",
       "      <td>4.8</td>\n",
       "      <td>5.5</td>\n",
       "      <td>5.9</td>\n",
       "      <td>6.7</td>\n",
       "      <td>7.9</td>\n",
       "      <td>7.9</td>\n",
       "      <td>7.7</td>\n",
       "      <td>7.1</td>\n",
       "    </tr>\n",
       "    <tr>\n",
       "      <th>5</th>\n",
       "      <td>LA QUIACA OBSERVATORIO</td>\n",
       "      <td>Nubosidad total (octavos)</td>\n",
       "      <td>4.9</td>\n",
       "      <td>4.7</td>\n",
       "      <td>3.7</td>\n",
       "      <td>2.3</td>\n",
       "      <td>1.6</td>\n",
       "      <td>1.4</td>\n",
       "      <td>1.3</td>\n",
       "      <td>1.3</td>\n",
       "      <td>1.8</td>\n",
       "      <td>2.6</td>\n",
       "      <td>3.1</td>\n",
       "      <td>4.1</td>\n",
       "    </tr>\n",
       "    <tr>\n",
       "      <th>6</th>\n",
       "      <td>LA QUIACA OBSERVATORIO</td>\n",
       "      <td>Precipitación (mm)</td>\n",
       "      <td>101.9</td>\n",
       "      <td>67.9</td>\n",
       "      <td>48.1</td>\n",
       "      <td>6.8</td>\n",
       "      <td>1.1</td>\n",
       "      <td>0.0</td>\n",
       "      <td>0.0</td>\n",
       "      <td>1.2</td>\n",
       "      <td>3.9</td>\n",
       "      <td>14.4</td>\n",
       "      <td>22.2</td>\n",
       "      <td>63.2</td>\n",
       "    </tr>\n",
       "    <tr>\n",
       "      <th>7</th>\n",
       "      <td>LA QUIACA OBSERVATORIO</td>\n",
       "      <td>Frecuencia de días con Precipitación superior ...</td>\n",
       "      <td>11.5</td>\n",
       "      <td>9.2</td>\n",
       "      <td>6.8</td>\n",
       "      <td>1.4</td>\n",
       "      <td>0.2</td>\n",
       "      <td>0.0</td>\n",
       "      <td>0.0</td>\n",
       "      <td>0.2</td>\n",
       "      <td>0.6</td>\n",
       "      <td>2.3</td>\n",
       "      <td>3.8</td>\n",
       "      <td>8.6</td>\n",
       "    </tr>\n",
       "    <tr>\n",
       "      <th>8</th>\n",
       "      <td>ORÁN AERO*</td>\n",
       "      <td>Temperatura (°C)</td>\n",
       "      <td>26.4</td>\n",
       "      <td>25.4</td>\n",
       "      <td>23.9</td>\n",
       "      <td>21.3</td>\n",
       "      <td>18.1</td>\n",
       "      <td>15.6</td>\n",
       "      <td>14.9</td>\n",
       "      <td>17.6</td>\n",
       "      <td>21.0</td>\n",
       "      <td>24.5</td>\n",
       "      <td>25.5</td>\n",
       "      <td>26.4</td>\n",
       "    </tr>\n",
       "    <tr>\n",
       "      <th>9</th>\n",
       "      <td>ORÁN AERO*</td>\n",
       "      <td>Temperatura máxima (°C)</td>\n",
       "      <td>32.8</td>\n",
       "      <td>31.4</td>\n",
       "      <td>29.4</td>\n",
       "      <td>26.5</td>\n",
       "      <td>23.4</td>\n",
       "      <td>21.6</td>\n",
       "      <td>22.4</td>\n",
       "      <td>26.2</td>\n",
       "      <td>29.4</td>\n",
       "      <td>31.8</td>\n",
       "      <td>32.4</td>\n",
       "      <td>33.2</td>\n",
       "    </tr>\n",
       "    <tr>\n",
       "      <th>10</th>\n",
       "      <td>ORÁN AERO*</td>\n",
       "      <td>Temperatura mínima (°C)</td>\n",
       "      <td>21.6</td>\n",
       "      <td>21.2</td>\n",
       "      <td>20.3</td>\n",
       "      <td>17.9</td>\n",
       "      <td>14.5</td>\n",
       "      <td>11.3</td>\n",
       "      <td>9.6</td>\n",
       "      <td>11.1</td>\n",
       "      <td>14.2</td>\n",
       "      <td>18.4</td>\n",
       "      <td>19.7</td>\n",
       "      <td>21.2</td>\n",
       "    </tr>\n",
       "    <tr>\n",
       "      <th>11</th>\n",
       "      <td>ORÁN AERO*</td>\n",
       "      <td>Humedad relativa (%)</td>\n",
       "      <td>76.5</td>\n",
       "      <td>79.3</td>\n",
       "      <td>82.8</td>\n",
       "      <td>84.3</td>\n",
       "      <td>83.6</td>\n",
       "      <td>81.0</td>\n",
       "      <td>73.8</td>\n",
       "      <td>63.3</td>\n",
       "      <td>55.7</td>\n",
       "      <td>61.1</td>\n",
       "      <td>66.7</td>\n",
       "      <td>71.5</td>\n",
       "    </tr>\n",
       "    <tr>\n",
       "      <th>12</th>\n",
       "      <td>ORÁN AERO*</td>\n",
       "      <td>Velocidad del Viento (km/h) (2011-2020)</td>\n",
       "      <td>NaN</td>\n",
       "      <td>NaN</td>\n",
       "      <td>NaN</td>\n",
       "      <td>NaN</td>\n",
       "      <td>NaN</td>\n",
       "      <td>NaN</td>\n",
       "      <td>NaN</td>\n",
       "      <td>NaN</td>\n",
       "      <td>NaN</td>\n",
       "      <td>NaN</td>\n",
       "      <td>NaN</td>\n",
       "      <td>NaN</td>\n",
       "    </tr>\n",
       "    <tr>\n",
       "      <th>13</th>\n",
       "      <td>ORÁN AERO*</td>\n",
       "      <td>Nubosidad total (octavos)</td>\n",
       "      <td>5.2</td>\n",
       "      <td>5.4</td>\n",
       "      <td>5.7</td>\n",
       "      <td>5.7</td>\n",
       "      <td>5.6</td>\n",
       "      <td>5.0</td>\n",
       "      <td>4.0</td>\n",
       "      <td>3.2</td>\n",
       "      <td>3.7</td>\n",
       "      <td>4.8</td>\n",
       "      <td>5.0</td>\n",
       "      <td>5.1</td>\n",
       "    </tr>\n",
       "    <tr>\n",
       "      <th>14</th>\n",
       "      <td>ORÁN AERO*</td>\n",
       "      <td>Precipitación (mm)</td>\n",
       "      <td>198.4</td>\n",
       "      <td>185.9</td>\n",
       "      <td>157.8</td>\n",
       "      <td>59.5</td>\n",
       "      <td>22.6</td>\n",
       "      <td>7.1</td>\n",
       "      <td>3.0</td>\n",
       "      <td>3.5</td>\n",
       "      <td>16.3</td>\n",
       "      <td>58.9</td>\n",
       "      <td>97.3</td>\n",
       "      <td>157.3</td>\n",
       "    </tr>\n",
       "    <tr>\n",
       "      <th>15</th>\n",
       "      <td>ORÁN AERO*</td>\n",
       "      <td>Frecuencia de días con Precipitación superior ...</td>\n",
       "      <td>10.5</td>\n",
       "      <td>10.1</td>\n",
       "      <td>10.7</td>\n",
       "      <td>7.8</td>\n",
       "      <td>3.8</td>\n",
       "      <td>1.4</td>\n",
       "      <td>1.0</td>\n",
       "      <td>0.7</td>\n",
       "      <td>1.7</td>\n",
       "      <td>5.0</td>\n",
       "      <td>6.9</td>\n",
       "      <td>9.4</td>\n",
       "    </tr>\n",
       "  </tbody>\n",
       "</table>\n",
       "</div>"
      ],
      "text/plain": [
       "                  Estación                                     Valor Medio de  \\\n",
       "0   LA QUIACA OBSERVATORIO                                   Temperatura (°C)   \n",
       "1   LA QUIACA OBSERVATORIO                            Temperatura máxima (°C)   \n",
       "2   LA QUIACA OBSERVATORIO                            Temperatura mínima (°C)   \n",
       "3   LA QUIACA OBSERVATORIO                               Humedad relativa (%)   \n",
       "4   LA QUIACA OBSERVATORIO            Velocidad del Viento (km/h) (2011-2020)   \n",
       "5   LA QUIACA OBSERVATORIO                          Nubosidad total (octavos)   \n",
       "6   LA QUIACA OBSERVATORIO                                 Precipitación (mm)   \n",
       "7   LA QUIACA OBSERVATORIO  Frecuencia de días con Precipitación superior ...   \n",
       "8               ORÁN AERO*                                   Temperatura (°C)   \n",
       "9               ORÁN AERO*                            Temperatura máxima (°C)   \n",
       "10              ORÁN AERO*                            Temperatura mínima (°C)   \n",
       "11              ORÁN AERO*                               Humedad relativa (%)   \n",
       "12              ORÁN AERO*            Velocidad del Viento (km/h) (2011-2020)   \n",
       "13              ORÁN AERO*                          Nubosidad total (octavos)   \n",
       "14              ORÁN AERO*                                 Precipitación (mm)   \n",
       "15              ORÁN AERO*  Frecuencia de días con Precipitación superior ...   \n",
       "\n",
       "      Ene    Feb    Mar   Abr   May   Jun   Jul   Ago   Sep   Oct   Nov    Dic  \n",
       "0    13.2   13.0   12.8  11.3   7.3   4.8   4.5   7.0  10.0  12.4  13.4   13.9  \n",
       "1    20.6   20.4   20.6  20.3  17.8  16.3  16.1  18.0  20.0  21.7  22.5   22.2  \n",
       "2     7.7    7.6    6.6   3.1  -2.5  -5.7  -6.2  -4.0  -0.4   3.3   5.5    7.3  \n",
       "3    62.6   63.2   60.3  46.0  32.6  27.4  25.7  26.7  32.1  42.4  48.6   55.8  \n",
       "4     6.5    6.8    6.7   5.5   4.8   5.5   5.9   6.7   7.9   7.9   7.7    7.1  \n",
       "5     4.9    4.7    3.7   2.3   1.6   1.4   1.3   1.3   1.8   2.6   3.1    4.1  \n",
       "6   101.9   67.9   48.1   6.8   1.1   0.0   0.0   1.2   3.9  14.4  22.2   63.2  \n",
       "7    11.5    9.2    6.8   1.4   0.2   0.0   0.0   0.2   0.6   2.3   3.8    8.6  \n",
       "8    26.4   25.4   23.9  21.3  18.1  15.6  14.9  17.6  21.0  24.5  25.5   26.4  \n",
       "9    32.8   31.4   29.4  26.5  23.4  21.6  22.4  26.2  29.4  31.8  32.4   33.2  \n",
       "10   21.6   21.2   20.3  17.9  14.5  11.3   9.6  11.1  14.2  18.4  19.7   21.2  \n",
       "11   76.5   79.3   82.8  84.3  83.6  81.0  73.8  63.3  55.7  61.1  66.7   71.5  \n",
       "12    NaN    NaN    NaN   NaN   NaN   NaN   NaN   NaN   NaN   NaN   NaN    NaN  \n",
       "13    5.2    5.4    5.7   5.7   5.6   5.0   4.0   3.2   3.7   4.8   5.0    5.1  \n",
       "14  198.4  185.9  157.8  59.5  22.6   7.1   3.0   3.5  16.3  58.9  97.3  157.3  \n",
       "15   10.5   10.1   10.7   7.8   3.8   1.4   1.0   0.7   1.7   5.0   6.9    9.4  "
      ]
     },
     "execution_count": 64,
     "metadata": {},
     "output_type": "execute_result"
    }
   ],
   "source": [
    "df_30 = pd.read_csv(\"Estadísticas normales Datos abiertos 1991-2020.txt\", sep=\"\\t\", skiprows=7, encoding=\"latin1\")\n",
    "df_30 = df_30.dropna(axis=1, how=\"all\")\n",
    "for col in df_30.columns:\n",
    "    if col not in ['Estación', 'Valor Medio de']:  # columnas que querés dejar como texto\n",
    "        df_30[col] = pd.to_numeric(df_30[col], errors='coerce')\n",
    "\n",
    "\n",
    "df_30.head(16)"
   ]
  },
  {
   "cell_type": "code",
   "execution_count": 65,
   "metadata": {},
   "outputs": [
    {
     "data": {
      "text/plain": [
       "Estación           object\n",
       "Valor Medio de     object\n",
       "Ene               float64\n",
       "Feb               float64\n",
       "Mar               float64\n",
       "Abr               float64\n",
       "May               float64\n",
       "Jun               float64\n",
       "Jul               float64\n",
       "Ago               float64\n",
       "Sep               float64\n",
       "Oct               float64\n",
       "Nov               float64\n",
       "Dic               float64\n",
       "dtype: object"
      ]
     },
     "execution_count": 65,
     "metadata": {},
     "output_type": "execute_result"
    }
   ],
   "source": [
    "df_30.dtypes"
   ]
  },
  {
   "cell_type": "code",
   "execution_count": 66,
   "metadata": {},
   "outputs": [
    {
     "data": {
      "text/plain": [
       "FECHA     datetime64[ns]\n",
       "TMAX             float64\n",
       "TMIN             float64\n",
       "NOMBRE          category\n",
       "dtype: object"
      ]
     },
     "execution_count": 66,
     "metadata": {},
     "output_type": "execute_result"
    }
   ],
   "source": [
    "df_ly.dtypes"
   ]
  },
  {
   "cell_type": "code",
   "execution_count": null,
   "metadata": {},
   "outputs": [],
   "source": []
  }
 ],
 "metadata": {
  "kernelspec": {
   "display_name": "Python 3",
   "language": "python",
   "name": "python3"
  },
  "language_info": {
   "codemirror_mode": {
    "name": "ipython",
    "version": 3
   },
   "file_extension": ".py",
   "mimetype": "text/x-python",
   "name": "python",
   "nbconvert_exporter": "python",
   "pygments_lexer": "ipython3",
   "version": "3.12.0"
  }
 },
 "nbformat": 4,
 "nbformat_minor": 2
}
